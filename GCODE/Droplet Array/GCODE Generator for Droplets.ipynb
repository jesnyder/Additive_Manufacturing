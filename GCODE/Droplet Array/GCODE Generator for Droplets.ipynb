{
 "cells": [
  {
   "cell_type": "code",
   "execution_count": 1,
   "metadata": {
    "collapsed": true
   },
   "outputs": [],
   "source": [
    "# Generate the GCODE to print an array of droplets in a circular well. \n",
    "\n",
    "import time\n",
    "WellRadius = 25/2; # Radius of wellplate\n",
    "\n",
    "\n",
    "Zhighpoint = -1;\n",
    "Zlowpoint = 0;\n",
    "XYspacing = 1; \n",
    "\n",
    "Etime = 0.1; \n",
    "ColumnLength = int(2*WellRadius/XYspacing);\n",
    "\n",
    "timestr = time.strftime(\"%Y%m%d-%H%M%S\")\n",
    "\n",
    "text_file = open('Droplet_' + timestr + '.gcode', \"a+\")\n",
    "text_file.write(\"\\n; Date Compiled: %s\" % timestr )\n",
    "text_file.write(\"\\n; GCODE Reference: http://reprap.org/wiki/G-code#G0_.26_G1:_Move\")\n",
    "text_file.write(\"\\nG21; set units to millimeters\")\n",
    "text_file.write(\"\\nG90; use G90 for absolute and G91 for incremental/relative coordinates\")\n",
    "text_file.write(\"\\nG83; use G82 for absolute and G83 for incremental/relative distance for extrusion\")\n",
    "\n",
    "\n",
    "for j in range(ColumnLength): \n",
    "    for i in range(ColumnLength):  \n",
    "        \n",
    "        if j*XYspacing <= WellRadius:a = WellRadius-j*XYspacing\n",
    "        else: a = -WellRadius+j*XYspacing\n",
    "\n",
    "        if i <= 2*(WellRadius-a)/XYspacing:\n",
    " \n",
    "            text_file.write(\"\\n\")\n",
    "            text_file.write(\"\\n G1 X%.2f\" % j)\n",
    "            text_file.write(\" Y%.2f\" % (i*XYspacing+a))     \n",
    "            text_file.write(\" Z%.2f\" % Zhighpoint)\n",
    "            text_file.write(\" E0\")\n",
    "\n",
    "            text_file.write(\"\\n G1 X%.2f\" % j)\n",
    "            text_file.write(\" Y%.2f\" % (i*XYspacing+a))   \n",
    "            text_file.write(\" Z%.2f\" % Zlowpoint)\n",
    "            text_file.write(\" E%.2f\" % Etime) \n",
    "   \n",
    "            text_file.write(\"\\n G1 X%.2f\" % j)\n",
    "            text_file.write(\" Y%.2f\" % (i*XYspacing+a))     \n",
    "            text_file.write(\" Z%.2f\" % Zhighpoint)\n",
    "            text_file.write(\" E0\")\n",
    "       \n",
    "text_file.write(\"\\n G1 Z%.2f\" % 2*Zhighpoint)\n",
    "text_file.close()\n",
    "\n"
   ]
  }
 ],
 "metadata": {
  "kernelspec": {
   "display_name": "Python 3",
   "language": "python",
   "name": "python3"
  },
  "language_info": {
   "codemirror_mode": {
    "name": "ipython",
    "version": 3
   },
   "file_extension": ".py",
   "mimetype": "text/x-python",
   "name": "python",
   "nbconvert_exporter": "python",
   "pygments_lexer": "ipython3",
   "version": "3.6.3"
  }
 },
 "nbformat": 4,
 "nbformat_minor": 2
}
