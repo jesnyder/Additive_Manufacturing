{
 "cells": [
  {
   "cell_type": "code",
   "execution_count": 1,
   "metadata": {
    "collapsed": true
   },
   "outputs": [],
   "source": [
    "import math; import time; import os;"
   ]
  },
  {
   "cell_type": "code",
   "execution_count": 2,
   "metadata": {
    "collapsed": true
   },
   "outputs": [],
   "source": [
    "# Generate the GCODE to print an array of droplets in a circular well. \n",
    "\n",
    "def gcode_for_square_droplet_array(name, droplet_number):\n",
    "    \n",
    "    droplets_per_row = int(math.sqrt(droplet_number))\n",
    "    \n",
    "    Well_Radius = 30; # Diameter of well in a 6 well plate\n",
    "    XYspacing = Well_Radius/droplets_per_row; # Spacing between each droplet \n",
    "\n",
    "    Zhighpoint = -0.5; Zlowpoint = 0;\n",
    "    Etime = 0.1; \n",
    "\n",
    "    timestr = time.strftime(\"%Y%m%d-%H%M%S\")\n",
    "\n",
    "    filename = os.path.join(\"GCode_Square\" , name + str(droplet_number) + \"_Drops_Spaced_\" + str(\"%.2f\" % XYspacing) + \"_mm\" + '.gcode')\n",
    "\n",
    "    text_file = open(filename, \"a+\");\n",
    "    text_file = open(filename, \"r+\");\n",
    "    text_file.write(\"\\n; Date Compiled: %s\" % timestr )\n",
    "    text_file.write(\"\\n; GCODE Reference: http://reprap.org/wiki/G-code#G0_.26_G1:_Move\")\n",
    "    text_file.write(\"\\nG21; set units to millimeters\")\n",
    "    text_file.write(\"\\nG90; use G90 for absolute and G91 for incremental/relative coordinates\")\n",
    "    text_file.write(\"\\nG83; use G82 for absolute and G83 for incremental/relative distance for extrusion\")\n",
    "\n",
    "    for x in range(droplets_per_row):\n",
    "        x_coordinate = x*XYspacing;\n",
    "        \n",
    "        for y in range(droplets_per_row): \n",
    "            y_coordinate = y*XYspacing;\n",
    "            \n",
    "            text_file.write(\"\\n\")\n",
    "            text_file.write(\"\\n G1 X%.2f\" % x_coordinate)\n",
    "            text_file.write(\" Y%.2f\" % y_coordinate)     \n",
    "            text_file.write(\" Z%.2f\" % Zhighpoint)\n",
    "            text_file.write(\" E0\")\n",
    "\n",
    "            text_file.write(\"\\n G1 X%.2f\" % x_coordinate)\n",
    "            text_file.write(\" Y%.2f\" % y_coordinate)  \n",
    "            text_file.write(\" Z%.2f\" % Zlowpoint)\n",
    "            text_file.write(\" E%.2f\" % Etime) \n",
    "\n",
    "            text_file.write(\"\\n G1 X%.2f\" % x_coordinate)\n",
    "            text_file.write(\" Y%.2f\" % y_coordinate)     \n",
    "            text_file.write(\" Z%.2f\" % Zhighpoint)\n",
    "            text_file.write(\" E0\")\n",
    "       \n",
    "    text_file.write(\"\\n G1 Z%.2f\" % -2)\n",
    "    text_file.close()\n",
    "    \n",
    "    return(XYspacing)"
   ]
  },
  {
   "cell_type": "code",
   "execution_count": 3,
   "metadata": {},
   "outputs": [
    {
     "name": "stdout",
     "output_type": "stream",
     "text": [
      "Number of Droplets: 50\n",
      "XY Spacing (mm): 3.142857142857143\n",
      "Number of Droplets: 100\n",
      "XY Spacing (mm): 2.2\n",
      "Number of Droplets: 200\n",
      "XY Spacing (mm): 1.5714285714285714\n",
      "Number of Droplets: 400\n",
      "XY Spacing (mm): 1.1\n",
      "Number of Droplets: 800\n",
      "XY Spacing (mm): 0.7857142857142857\n",
      "Number of Droplets: 1600\n",
      "XY Spacing (mm): 0.55\n",
      "Number of Droplets: 3200\n",
      "XY Spacing (mm): 0.39285714285714285\n",
      "Number of Droplets: 6400\n",
      "XY Spacing (mm): 0.275\n",
      "Number of Droplets: 12800\n",
      "XY Spacing (mm): 0.19469026548672566\n"
     ]
    }
   ],
   "source": [
    "\n",
    "droplet_number = 50;\n",
    "XYspacing = droplet_number;\n",
    "    \n",
    "while XYspacing > 0.25: \n",
    "    print(\"Number of Droplets:\", droplet_number)\n",
    "    XYspacing = gcode_for_square_droplet_array(\"Square_\", droplet_number)\n",
    "    print(\"XY Spacing (mm):\", XYspacing)\n",
    "    droplet_number = droplet_number*2;\n",
    "\n",
    "  "
   ]
  }
 ],
 "metadata": {
  "kernelspec": {
   "display_name": "Python 3",
   "language": "python",
   "name": "python3"
  },
  "language_info": {
   "codemirror_mode": {
    "name": "ipython",
    "version": 3
   },
   "file_extension": ".py",
   "mimetype": "text/x-python",
   "name": "python",
   "nbconvert_exporter": "python",
   "pygments_lexer": "ipython3",
   "version": "3.6.3"
  }
 },
 "nbformat": 4,
 "nbformat_minor": 2
}
