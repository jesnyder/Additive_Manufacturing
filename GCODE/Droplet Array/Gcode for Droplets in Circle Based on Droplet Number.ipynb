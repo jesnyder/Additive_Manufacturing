{
 "cells": [
  {
   "cell_type": "code",
   "execution_count": 1,
   "metadata": {
    "collapsed": true
   },
   "outputs": [],
   "source": [
    "import math; import time; import os;"
   ]
  },
  {
   "cell_type": "code",
   "execution_count": 2,
   "metadata": {},
   "outputs": [],
   "source": [
    "# Generate the GCODE to print an array of droplets in a circular well. \n",
    "\n",
    "def gcode_for_circular_droplet_array(name, droplet_number):\n",
    "\n",
    "    # Define the diameter of the circle the droplets will fit inside\n",
    "    D = 30; R = 0.5*D; # For a 6-well plate with buffer for nozzle to fit \n",
    "    \n",
    "    # Print parameters\n",
    "    Zhighpoint = -0.5; Zlowpoint = 0; Etime = 0.1; \n",
    "    \n",
    "    # Calculate the spacing between droplets \n",
    "    A = math.pi*R**2; # Calculate total area\n",
    "    Area_specific = A/droplet_number; # Calculat area per droplet\n",
    "    droplet_spacing = math.sqrt(Area_specific); # Spacing between droplets \n",
    "    \n",
    "    # Name and open the file. Write the gcode header. \n",
    "    timestr = time.strftime(\"%Y%m%d-%H%M%S\");\n",
    "    filename = os.path.join(\"GCode_Circle\" , name + str(droplet_number) + \"_Drops_Spaced_\" + str(\"%.2f\" % droplet_spacing) + \"_mm\" + '.gcode')\n",
    "    \n",
    "    text_file = open(filename, \"a+\");\n",
    "    text_file = open(filename, \"r+\");\n",
    "    text_file.write(\"\\n; Date Compiled: %s\" % timestr );\n",
    "    text_file.write(\"\\n; GCODE Reference: http://reprap.org/wiki/G-code#G0_.26_G1:_Move\");\n",
    "    text_file.write(\"\\nG21; set units to millimeters\");\n",
    "    text_file.write(\"\\nG90; use G90 for absolute and G91 for incremental/relative coordinates\");\n",
    "    text_file.write(\"\\nG83; use G82 for absolute and G83 for incremental/relative distance for extrusion\");\n",
    "    \n",
    "    # Calculate the droplets placed along the diameter\n",
    "    droplets_along_diameter = int(D/droplet_spacing + 1);  \n",
    "    \n",
    "    for y in range(droplets_along_diameter):\n",
    "        \n",
    "        y_coordinate = y*droplet_spacing; # Calculate y coordinate\n",
    "        \n",
    "        # Calculate the droplets per row  \n",
    "        half_row_length = math.sqrt(R**2 - (R-y_coordinate)**2); # Calculate row length \n",
    "        row_length = 2*half_row_length; \n",
    "        droplets_per_row = int(row_length/droplet_spacing + 1);  \n",
    "        \n",
    "        x_coordinate = abs(R + half_row_length); # Calculate x coordinate \n",
    "        \n",
    "        for x in range(droplets_per_row): \n",
    "            \n",
    "            text_file.write(\"\\n\")\n",
    "            text_file.write(\"\\n G1 X%.2f\" % x_coordinate)\n",
    "            text_file.write(\" Y%.2f\" % y_coordinate)     \n",
    "            text_file.write(\" Z%.2f\" % Zhighpoint)\n",
    "            text_file.write(\" E0\")\n",
    "\n",
    "            text_file.write(\"\\n G1 X%.2f\" % x_coordinate)\n",
    "            text_file.write(\" Y%.2f\" % y_coordinate)  \n",
    "            text_file.write(\" Z%.2f\" % Zlowpoint)\n",
    "            text_file.write(\" E%.2f\" % Etime) \n",
    "\n",
    "            text_file.write(\"\\n G1 X%.2f\" % x_coordinate)\n",
    "            text_file.write(\" Y%.2f\" % y_coordinate)     \n",
    "            text_file.write(\" Z%.2f\" % Zhighpoint)\n",
    "            text_file.write(\" E0\")\n",
    "            \n",
    "            x_coordinate = x_coordinate - droplet_spacing;\n",
    "            \n",
    "        y_coordinate = y_coordinate + droplet_spacing;\n",
    "       \n",
    "    text_file.write(\"\\n G1 Z%.2f\" % -2)\n",
    "    text_file.close()\n",
    "     \n",
    "    return(droplet_spacing)"
   ]
  },
  {
   "cell_type": "code",
   "execution_count": 3,
   "metadata": {},
   "outputs": [
    {
     "name": "stdout",
     "output_type": "stream",
     "text": [
      "Number of Droplets: 50\n"
     ]
    },
    {
     "ename": "FileNotFoundError",
     "evalue": "[Errno 2] No such file or directory: 'GCode_Circle/Circle_50_Drops_Spaced_3.76_mm.gcode'",
     "output_type": "error",
     "traceback": [
      "\u001b[0;31m---------------------------------------------------------------------------\u001b[0m",
      "\u001b[0;31mFileNotFoundError\u001b[0m                         Traceback (most recent call last)",
      "\u001b[0;32m<ipython-input-3-2fc13eabb6e2>\u001b[0m in \u001b[0;36m<module>\u001b[0;34m()\u001b[0m\n\u001b[1;32m      5\u001b[0m \u001b[0;32mwhile\u001b[0m \u001b[0mdroplet_spacing\u001b[0m \u001b[0;34m>\u001b[0m \u001b[0;36m3\u001b[0m\u001b[0;34m:\u001b[0m\u001b[0;34m\u001b[0m\u001b[0m\n\u001b[1;32m      6\u001b[0m     \u001b[0mprint\u001b[0m\u001b[0;34m(\u001b[0m\u001b[0;34m\"Number of Droplets:\"\u001b[0m\u001b[0;34m,\u001b[0m \u001b[0mdroplet_number\u001b[0m\u001b[0;34m)\u001b[0m\u001b[0;34m\u001b[0m\u001b[0m\n\u001b[0;32m----> 7\u001b[0;31m     \u001b[0mdroplet_spacing\u001b[0m \u001b[0;34m=\u001b[0m \u001b[0mgcode_for_circular_droplet_array\u001b[0m\u001b[0;34m(\u001b[0m\u001b[0;34m\"Circle_\"\u001b[0m\u001b[0;34m,\u001b[0m \u001b[0mdroplet_number\u001b[0m\u001b[0;34m)\u001b[0m\u001b[0;34m\u001b[0m\u001b[0m\n\u001b[0m\u001b[1;32m      8\u001b[0m     \u001b[0mprint\u001b[0m\u001b[0;34m(\u001b[0m\u001b[0;34m\"XY Spacing (mm):\"\u001b[0m\u001b[0;34m,\u001b[0m \u001b[0mdroplet_spacing\u001b[0m\u001b[0;34m)\u001b[0m\u001b[0;34m\u001b[0m\u001b[0m\n\u001b[1;32m      9\u001b[0m     \u001b[0mdroplet_number\u001b[0m \u001b[0;34m=\u001b[0m \u001b[0mdroplet_number\u001b[0m\u001b[0;34m*\u001b[0m\u001b[0;36m2\u001b[0m\u001b[0;34m;\u001b[0m\u001b[0;34m\u001b[0m\u001b[0m\n",
      "\u001b[0;32m<ipython-input-2-8e9c48b20af2>\u001b[0m in \u001b[0;36mgcode_for_circular_droplet_array\u001b[0;34m(name, droplet_number)\u001b[0m\n\u001b[1;32m     17\u001b[0m     \u001b[0mtimestr\u001b[0m \u001b[0;34m=\u001b[0m \u001b[0mtime\u001b[0m\u001b[0;34m.\u001b[0m\u001b[0mstrftime\u001b[0m\u001b[0;34m(\u001b[0m\u001b[0;34m\"%Y%m%d-%H%M%S\"\u001b[0m\u001b[0;34m)\u001b[0m\u001b[0;34m;\u001b[0m\u001b[0;34m\u001b[0m\u001b[0m\n\u001b[1;32m     18\u001b[0m     \u001b[0mfilename\u001b[0m \u001b[0;34m=\u001b[0m \u001b[0mos\u001b[0m\u001b[0;34m.\u001b[0m\u001b[0mpath\u001b[0m\u001b[0;34m.\u001b[0m\u001b[0mjoin\u001b[0m\u001b[0;34m(\u001b[0m\u001b[0;34m\"GCode_Circle\"\u001b[0m \u001b[0;34m,\u001b[0m \u001b[0mname\u001b[0m \u001b[0;34m+\u001b[0m \u001b[0mstr\u001b[0m\u001b[0;34m(\u001b[0m\u001b[0mdroplet_number\u001b[0m\u001b[0;34m)\u001b[0m \u001b[0;34m+\u001b[0m \u001b[0;34m\"_Drops_Spaced_\"\u001b[0m \u001b[0;34m+\u001b[0m \u001b[0mstr\u001b[0m\u001b[0;34m(\u001b[0m\u001b[0;34m\"%.2f\"\u001b[0m \u001b[0;34m%\u001b[0m \u001b[0mdroplet_spacing\u001b[0m\u001b[0;34m)\u001b[0m \u001b[0;34m+\u001b[0m \u001b[0;34m\"_mm\"\u001b[0m \u001b[0;34m+\u001b[0m \u001b[0;34m'.gcode'\u001b[0m\u001b[0;34m)\u001b[0m\u001b[0;34m\u001b[0m\u001b[0m\n\u001b[0;32m---> 19\u001b[0;31m     \u001b[0mtext_file\u001b[0m \u001b[0;34m=\u001b[0m \u001b[0mopen\u001b[0m\u001b[0;34m(\u001b[0m\u001b[0mfilename\u001b[0m\u001b[0;34m,\u001b[0m \u001b[0;34m\"r+\"\u001b[0m\u001b[0;34m)\u001b[0m\u001b[0;34m;\u001b[0m\u001b[0;34m\u001b[0m\u001b[0m\n\u001b[0m\u001b[1;32m     20\u001b[0m     \u001b[0mtext_file\u001b[0m\u001b[0;34m.\u001b[0m\u001b[0mwrite\u001b[0m\u001b[0;34m(\u001b[0m\u001b[0;34m\"\\n; Date Compiled: %s\"\u001b[0m \u001b[0;34m%\u001b[0m \u001b[0mtimestr\u001b[0m \u001b[0;34m)\u001b[0m\u001b[0;34m;\u001b[0m\u001b[0;34m\u001b[0m\u001b[0m\n\u001b[1;32m     21\u001b[0m     \u001b[0mtext_file\u001b[0m\u001b[0;34m.\u001b[0m\u001b[0mwrite\u001b[0m\u001b[0;34m(\u001b[0m\u001b[0;34m\"\\n; GCODE Reference: http://reprap.org/wiki/G-code#G0_.26_G1:_Move\"\u001b[0m\u001b[0;34m)\u001b[0m\u001b[0;34m;\u001b[0m\u001b[0;34m\u001b[0m\u001b[0m\n",
      "\u001b[0;31mFileNotFoundError\u001b[0m: [Errno 2] No such file or directory: 'GCode_Circle/Circle_50_Drops_Spaced_3.76_mm.gcode'"
     ]
    }
   ],
   "source": [
    "\n",
    "droplet_number = 50;\n",
    "droplet_spacing = droplet_number;\n",
    "    \n",
    "while droplet_spacing > 3: \n",
    "    print(\"Number of Droplets:\", droplet_number)\n",
    "    droplet_spacing = gcode_for_circular_droplet_array(\"Circle_\", droplet_number)\n",
    "    print(\"XY Spacing (mm):\", droplet_spacing)\n",
    "    droplet_number = droplet_number*2;\n",
    "\n",
    "  "
   ]
  }
 ],
 "metadata": {
  "kernelspec": {
   "display_name": "Python 3",
   "language": "python",
   "name": "python3"
  },
  "language_info": {
   "codemirror_mode": {
    "name": "ipython",
    "version": 3
   },
   "file_extension": ".py",
   "mimetype": "text/x-python",
   "name": "python",
   "nbconvert_exporter": "python",
   "pygments_lexer": "ipython3",
   "version": "3.6.3"
  }
 },
 "nbformat": 4,
 "nbformat_minor": 2
}
