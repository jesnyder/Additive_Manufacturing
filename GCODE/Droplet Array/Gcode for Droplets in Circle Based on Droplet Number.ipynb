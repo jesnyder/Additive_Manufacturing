{
 "cells": [
  {
   "cell_type": "code",
   "execution_count": 1,
   "metadata": {
    "collapsed": true
   },
   "outputs": [],
   "source": [
    "import math; import time; import os; import matplotlib.pyplot as plt; \n"
   ]
  },
  {
   "cell_type": "code",
   "execution_count": 2,
   "metadata": {
    "collapsed": true
   },
   "outputs": [],
   "source": [
    "# Generate the GCODE to print an array of droplets in a circular well. \n",
    "\n",
    "def gcode_for_circular_droplet_array(name, droplet_number):\n",
    "\n",
    "    # Define the diameter of the circle the droplets will fit inside\n",
    "    D = 30; R = 0.5*D; # For a 6-well plate with buffer for nozzle to fit \n",
    "    \n",
    "    # Print parameters\n",
    "    Zhighpoint = -0.5; Zlowpoint = 0; Etime = 0.1; \n",
    "    \n",
    "    # Calculate the spacing between droplets \n",
    "    Area = math.pi*R**2; # Calculate total area\n",
    "    Area_specific = Area/droplet_number; # Calculat area per droplet\n",
    "    droplet_spacing = math.sqrt(Area_specific); # Spacing between droplets \n",
    "    \n",
    "    # Name and open the file. Write the gcode header. \n",
    "    timestr = time.strftime(\"%Y%m%d-%H%M%S\");\n",
    "    filename = os.path.join(\"GCode_Circle\" , name + str(droplet_number) + \"_Drops_Spaced_\" + str(\"%.2f\" % droplet_spacing) + \"_mm\" + '.gcode')\n",
    "    text_file = open(filename, \"a+\");\n",
    "    text_file = open(filename, \"r+\");\n",
    "    text_file.write(\"\\n; Date Compiled: %s\" % timestr );\n",
    "    text_file.write(\"\\n; GCODE Reference: http://reprap.org/wiki/G-code#G0_.26_G1:_Move\");\n",
    "    text_file.write(\"\\nG21; set units to millimeters\");\n",
    "    text_file.write(\"\\nG90; use G90 for absolute and G91 for incremental/relative coordinates\");\n",
    "    text_file.write(\"\\nG83; use G82 for absolute and G83 for incremental/relative distance for extrusion\");\n",
    "    \n",
    "    droplet_count = 0; # Count droplets\n",
    "    \n",
    "    # Calculate the droplets placed along the diameter\n",
    "    droplets_along_diameter = int(D/droplet_spacing + 1);  \n",
    "    \n",
    "    for y in range(droplets_along_diameter):\n",
    "        \n",
    "        y_coordinate = y*droplet_spacing; # Calculate y coordinate\n",
    "        \n",
    "        # Calculate the droplets per row  \n",
    "        half_row_length = math.sqrt(R**2 - (R-y_coordinate)**2); # Calculate row length \n",
    "        row_length = 2*half_row_length; \n",
    "        droplets_per_row = int(row_length/droplet_spacing + 1);  \n",
    "        \n",
    "        x_coordinate = abs(R + half_row_length); # Calculate x coordinate \n",
    "        \n",
    "        for x in range(droplets_per_row): \n",
    "            \n",
    "            text_file.write(\"\\n\")\n",
    "            text_file.write(\"\\n G1 X%.2f\" % x_coordinate)\n",
    "            text_file.write(\" Y%.2f\" % y_coordinate)     \n",
    "            text_file.write(\" Z%.2f\" % Zhighpoint)\n",
    "            text_file.write(\" E0\")\n",
    "\n",
    "            text_file.write(\"\\n G1 X%.2f\" % x_coordinate)\n",
    "            text_file.write(\" Y%.2f\" % y_coordinate)  \n",
    "            text_file.write(\" Z%.2f\" % Zlowpoint)\n",
    "            text_file.write(\" E%.2f\" % Etime) \n",
    "\n",
    "            text_file.write(\"\\n G1 X%.2f\" % x_coordinate)\n",
    "            text_file.write(\" Y%.2f\" % y_coordinate)     \n",
    "            text_file.write(\" Z%.2f\" % Zhighpoint)\n",
    "            text_file.write(\" E0\")\n",
    "            \n",
    "            droplet_count = droplet_count + 1; \n",
    "            x_coordinate = x_coordinate - droplet_spacing;\n",
    "            \n",
    "        y_coordinate = y_coordinate + droplet_spacing;\n",
    "       \n",
    "    text_file.write(\"\\n G1 Z%.2f\" % -2)\n",
    "    text_file.close()\n",
    "     \n",
    "    return(droplet_spacing, droplet_count)"
   ]
  },
  {
   "cell_type": "code",
   "execution_count": 3,
   "metadata": {},
   "outputs": [
    {
     "name": "stdout",
     "output_type": "stream",
     "text": [
      "Number of Droplets: 50\n",
      "XY Spacing (mm): 3.76  Droplets Count:  51\n",
      "Number of Droplets: 100\n",
      "XY Spacing (mm): 2.66  Droplets Count:  106\n",
      "Number of Droplets: 200\n",
      "XY Spacing (mm): 1.88  Droplets Count:  203\n",
      "Number of Droplets: 400\n",
      "XY Spacing (mm): 1.33  Droplets Count:  411\n",
      "Number of Droplets: 800\n",
      "XY Spacing (mm): 0.94  Droplets Count:  811\n",
      "Number of Droplets: 1600\n",
      "XY Spacing (mm): 0.66  Droplets Count:  1621\n"
     ]
    },
    {
     "data": {
      "image/png": "[encoded data removed]",
      "text/plain": [
       "<matplotlib.figure.Figure at 0x10a2418d0>"
      ]
     },
     "metadata": {},
     "output_type": "display_data"
    }
   ],
   "source": [
    "droplet_number = 50;\n",
    "droplet_spacing = droplet_number;\n",
    "list_droplet_count = []; list_droplet_spacing = []; \n",
    "    \n",
    "while droplet_spacing > 0.75: \n",
    "    print(\"Number of Droplets:\", droplet_number)\n",
    "    droplet_spacing, droplet_count = gcode_for_circular_droplet_array(\"Circle_\", droplet_number)\n",
    "    list_droplet_count.append(droplet_count); list_droplet_spacing.append(droplet_spacing);\n",
    "    print(\"XY Spacing (mm):\", \"%.2f\" % droplet_spacing, \" Droplets Count: \", droplet_count)\n",
    "    droplet_number = droplet_number*2;\n",
    "    \n",
    "plt.plot(list_droplet_count, list_droplet_spacing, 'ro') \n",
    "plt.xlabel(\"Droplet Count\")\n",
    "plt.ylabel(\"Droplet to Droplet Spacing (mm)\")\n",
    "plt.title(\"Droplet Spacing in a 6 Well Plate\")\n",
    "plt.show()\n"
   ]
  }
 ],
 "metadata": {
  "kernelspec": {
   "display_name": "Python 3",
   "language": "python",
   "name": "python3"
  },
  "language_info": {
   "codemirror_mode": {
    "name": "ipython",
    "version": 3
   },
   "file_extension": ".py",
   "mimetype": "text/x-python",
   "name": "python",
   "nbconvert_exporter": "python",
   "pygments_lexer": "ipython3",
   "version": "3.6.3"
  }
 },
 "nbformat": 4,
 "nbformat_minor": 2
}
